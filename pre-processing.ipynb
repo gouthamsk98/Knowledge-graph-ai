{
 "cells": [
  {
   "cell_type": "code",
   "execution_count": 2,
   "metadata": {},
   "outputs": [
    {
     "name": "stdout",
     "output_type": "stream",
     "text": [
      "Collecting babel==2.13.1\n",
      "  Using cached Babel-2.13.1-py3-none-any.whl.metadata (1.6 kB)\n",
      "Using cached Babel-2.13.1-py3-none-any.whl (10.1 MB)\n",
      "Installing collected packages: babel\n",
      "  Attempting uninstall: babel\n",
      "    Found existing installation: Babel 2.13.1\n",
      "    Uninstalling Babel-2.13.1:\n",
      "      Successfully uninstalled Babel-2.13.1\n",
      "Successfully installed babel-2.13.1\n",
      "Collecting cchardet\n",
      "  Using cached cchardet-2.1.7.tar.gz (653 kB)\n",
      "  Preparing metadata (setup.py) ... \u001b[?25ldone\n",
      "\u001b[?25hBuilding wheels for collected packages: cchardet\n",
      "  Building wheel for cchardet (setup.py) ... \u001b[?25lerror\n",
      "  \u001b[1;31merror\u001b[0m: \u001b[1msubprocess-exited-with-error\u001b[0m\n",
      "  \n",
      "  \u001b[31m×\u001b[0m \u001b[32mpython setup.py bdist_wheel\u001b[0m did not run successfully.\n",
      "  \u001b[31m│\u001b[0m exit code: \u001b[1;36m1\u001b[0m\n",
      "  \u001b[31m╰─>\u001b[0m \u001b[31m[23 lines of output]\u001b[0m\n",
      "  \u001b[31m   \u001b[0m running bdist_wheel\n",
      "  \u001b[31m   \u001b[0m running build\n",
      "  \u001b[31m   \u001b[0m running build_py\n",
      "  \u001b[31m   \u001b[0m creating build\n",
      "  \u001b[31m   \u001b[0m creating build/lib.macosx-11.0-arm64-cpython-312\n",
      "  \u001b[31m   \u001b[0m creating build/lib.macosx-11.0-arm64-cpython-312/cchardet\n",
      "  \u001b[31m   \u001b[0m copying src/cchardet/version.py -> build/lib.macosx-11.0-arm64-cpython-312/cchardet\n",
      "  \u001b[31m   \u001b[0m copying src/cchardet/__init__.py -> build/lib.macosx-11.0-arm64-cpython-312/cchardet\n",
      "  \u001b[31m   \u001b[0m running build_ext\n",
      "  \u001b[31m   \u001b[0m building 'cchardet._cchardet' extension\n",
      "  \u001b[31m   \u001b[0m creating build/temp.macosx-11.0-arm64-cpython-312\n",
      "  \u001b[31m   \u001b[0m creating build/temp.macosx-11.0-arm64-cpython-312/src\n",
      "  \u001b[31m   \u001b[0m creating build/temp.macosx-11.0-arm64-cpython-312/src/cchardet\n",
      "  \u001b[31m   \u001b[0m creating build/temp.macosx-11.0-arm64-cpython-312/src/ext\n",
      "  \u001b[31m   \u001b[0m creating build/temp.macosx-11.0-arm64-cpython-312/src/ext/uchardet\n",
      "  \u001b[31m   \u001b[0m creating build/temp.macosx-11.0-arm64-cpython-312/src/ext/uchardet/src\n",
      "  \u001b[31m   \u001b[0m creating build/temp.macosx-11.0-arm64-cpython-312/src/ext/uchardet/src/LangModels\n",
      "  \u001b[31m   \u001b[0m clang -fno-strict-overflow -DNDEBUG -O2 -Wall -fPIC -O2 -isystem /Users/evobidev/miniconda3/include -arch arm64 -fPIC -O2 -isystem /Users/evobidev/miniconda3/include -arch arm64 -Isrc/ext/uchardet/src -I/Users/evobidev/miniconda3/include/python3.12 -c src/cchardet/_cchardet.cpp -o build/temp.macosx-11.0-arm64-cpython-312/src/cchardet/_cchardet.o\n",
      "  \u001b[31m   \u001b[0m src/cchardet/_cchardet.cpp:196:12: fatal error: 'longintrepr.h' file not found\n",
      "  \u001b[31m   \u001b[0m   #include \"longintrepr.h\"\n",
      "  \u001b[31m   \u001b[0m            ^~~~~~~~~~~~~~~\n",
      "  \u001b[31m   \u001b[0m 1 error generated.\n",
      "  \u001b[31m   \u001b[0m error: command '/usr/bin/clang' failed with exit code 1\n",
      "  \u001b[31m   \u001b[0m \u001b[31m[end of output]\u001b[0m\n",
      "  \n",
      "  \u001b[1;35mnote\u001b[0m: This error originates from a subprocess, and is likely not a problem with pip.\n",
      "\u001b[31m  ERROR: Failed building wheel for cchardet\u001b[0m\u001b[31m\n",
      "\u001b[0m\u001b[?25h  Running setup.py clean for cchardet\n",
      "Failed to build cchardet\n",
      "\u001b[31mERROR: ERROR: Failed to build installable wheels for some pyproject.toml based projects (cchardet)\u001b[0m\u001b[31m\n",
      "\u001b[0mCollecting trafilatura\n",
      "  Downloading trafilatura-2.0.0-py3-none-any.whl.metadata (12 kB)\n",
      "Requirement already satisfied: certifi in /Users/evobidev/miniconda3/lib/python3.12/site-packages (from trafilatura) (2024.12.14)\n",
      "Collecting charset_normalizer>=3.4.0 (from trafilatura)\n",
      "  Downloading charset_normalizer-3.4.1-cp312-cp312-macosx_10_13_universal2.whl.metadata (35 kB)\n",
      "Collecting courlan>=1.3.2 (from trafilatura)\n",
      "  Downloading courlan-1.3.2-py3-none-any.whl.metadata (17 kB)\n",
      "Collecting htmldate>=1.9.2 (from trafilatura)\n",
      "  Downloading htmldate-1.9.3-py3-none-any.whl.metadata (10 kB)\n",
      "Collecting justext>=3.0.1 (from trafilatura)\n",
      "  Downloading jusText-3.0.1-py2.py3-none-any.whl.metadata (6.9 kB)\n",
      "Collecting lxml>=5.3.0 (from trafilatura)\n",
      "  Downloading lxml-5.3.1-cp312-cp312-macosx_10_9_universal2.whl.metadata (3.7 kB)\n",
      "Requirement already satisfied: urllib3<3,>=1.26 in /Users/evobidev/miniconda3/lib/python3.12/site-packages (from trafilatura) (2.2.2)\n",
      "Collecting babel>=2.16.0 (from courlan>=1.3.2->trafilatura)\n",
      "  Downloading babel-2.17.0-py3-none-any.whl.metadata (2.0 kB)\n",
      "Collecting tld>=0.13 (from courlan>=1.3.2->trafilatura)\n",
      "  Downloading tld-0.13-py2.py3-none-any.whl.metadata (9.4 kB)\n",
      "Collecting dateparser>=1.1.2 (from htmldate>=1.9.2->trafilatura)\n",
      "  Downloading dateparser-1.2.1-py3-none-any.whl.metadata (29 kB)\n",
      "Requirement already satisfied: python-dateutil>=2.9.0.post0 in /Users/evobidev/miniconda3/lib/python3.12/site-packages (from htmldate>=1.9.2->trafilatura) (2.9.0.post0)\n",
      "Requirement already satisfied: pytz>=2024.2 in /Users/evobidev/miniconda3/lib/python3.12/site-packages (from dateparser>=1.1.2->htmldate>=1.9.2->trafilatura) (2024.2)\n",
      "Requirement already satisfied: regex!=2019.02.19,!=2021.8.27,>=2015.06.24 in /Users/evobidev/miniconda3/lib/python3.12/site-packages (from dateparser>=1.1.2->htmldate>=1.9.2->trafilatura) (2024.11.6)\n",
      "Collecting tzlocal>=0.2 (from dateparser>=1.1.2->htmldate>=1.9.2->trafilatura)\n",
      "  Downloading tzlocal-5.2-py3-none-any.whl.metadata (7.8 kB)\n",
      "Collecting lxml_html_clean (from lxml[html_clean]>=4.4.2->justext>=3.0.1->trafilatura)\n",
      "  Downloading lxml_html_clean-0.4.1-py3-none-any.whl.metadata (2.4 kB)\n",
      "Requirement already satisfied: six>=1.5 in /Users/evobidev/miniconda3/lib/python3.12/site-packages (from python-dateutil>=2.9.0.post0->htmldate>=1.9.2->trafilatura) (1.16.0)\n",
      "Downloading trafilatura-2.0.0-py3-none-any.whl (132 kB)\n",
      "Downloading charset_normalizer-3.4.1-cp312-cp312-macosx_10_13_universal2.whl (196 kB)\n",
      "Downloading courlan-1.3.2-py3-none-any.whl (33 kB)\n",
      "Downloading htmldate-1.9.3-py3-none-any.whl (31 kB)\n",
      "Downloading jusText-3.0.1-py2.py3-none-any.whl (837 kB)\n",
      "\u001b[2K   \u001b[90m━━━━━━━━━━━━━━━━━━━━━━━━━━━━━━━━━━━━━━━━\u001b[0m \u001b[32m837.8/837.8 kB\u001b[0m \u001b[31m11.5 MB/s\u001b[0m eta \u001b[36m0:00:00\u001b[0m\n",
      "\u001b[?25hDownloading lxml-5.3.1-cp312-cp312-macosx_10_9_universal2.whl (8.2 MB)\n",
      "\u001b[2K   \u001b[90m━━━━━━━━━━━━━━━━━━━━━━━━━━━━━━━━━━━━━━━━\u001b[0m \u001b[32m8.2/8.2 MB\u001b[0m \u001b[31m15.8 MB/s\u001b[0m eta \u001b[36m0:00:00\u001b[0ma \u001b[36m0:00:01\u001b[0m\n",
      "\u001b[?25hDownloading babel-2.17.0-py3-none-any.whl (10.2 MB)\n",
      "\u001b[2K   \u001b[90m━━━━━━━━━━━━━━━━━━━━━━━━━━━━━━━━━━━━━━━━\u001b[0m \u001b[32m10.2/10.2 MB\u001b[0m \u001b[31m20.0 MB/s\u001b[0m eta \u001b[36m0:00:00\u001b[0m \u001b[36m0:00:01\u001b[0m\n",
      "\u001b[?25hDownloading dateparser-1.2.1-py3-none-any.whl (295 kB)\n",
      "Downloading tld-0.13-py2.py3-none-any.whl (263 kB)\n",
      "Downloading tzlocal-5.2-py3-none-any.whl (17 kB)\n",
      "Downloading lxml_html_clean-0.4.1-py3-none-any.whl (14 kB)\n",
      "Installing collected packages: tzlocal, tld, lxml, charset_normalizer, babel, lxml_html_clean, dateparser, courlan, htmldate, justext, trafilatura\n",
      "  Attempting uninstall: charset_normalizer\n",
      "    Found existing installation: charset-normalizer 3.3.2\n",
      "    Uninstalling charset-normalizer-3.3.2:\n",
      "      Successfully uninstalled charset-normalizer-3.3.2\n",
      "  Attempting uninstall: babel\n",
      "    Found existing installation: Babel 2.13.1\n",
      "    Uninstalling Babel-2.13.1:\n",
      "      Successfully uninstalled Babel-2.13.1\n",
      "\u001b[31mERROR: pip's dependency resolver does not currently take into account all the packages that are installed. This behaviour is the source of the following dependency conflicts.\n",
      "conda 25.1.1 requires conda-libmamba-solver>=24.11.0, but you have conda-libmamba-solver 24.7.0 which is incompatible.\n",
      "gradio 5.6.0 requires huggingface-hub>=0.25.1, but you have huggingface-hub 0.24.7 which is incompatible.\u001b[0m\u001b[31m\n",
      "\u001b[0mSuccessfully installed babel-2.17.0 charset_normalizer-3.4.1 courlan-1.3.2 dateparser-1.2.1 htmldate-1.9.3 justext-3.0.1 lxml-5.3.1 lxml_html_clean-0.4.1 tld-0.13 trafilatura-2.0.0 tzlocal-5.2\n"
     ]
    }
   ],
   "source": [
    "!pip3 install --force-reinstall --no-deps babel==2.13.1 \n",
    "!pip3 install cchardet  # single package only\n",
    "!pip3 install trafilatura\n"
   ]
  },
  {
   "cell_type": "code",
   "execution_count": 5,
   "metadata": {},
   "outputs": [
    {
     "name": "stderr",
     "output_type": "stream",
     "text": [
      "WARNING:courlan.urlstore:Discarding URL: /index.php?title=Main_Page\n",
      "WARNING:courlan.urlstore:Discarding URL: /index.php?redirect=no&title=Main_Page\n",
      "WARNING:courlan.urlstore:Discarding URL: /index.php?title=Roboki-t1\n",
      "WARNING:courlan.urlstore:Discarding URL: /index.php?action=history&title=Yudu_Robotics\n",
      "WARNING:courlan.urlstore:Discarding URL: /index.php?action=edit&title=Yudu_Robotics\n"
     ]
    }
   ],
   "source": [
    "from trafilatura.spider import focused_crawler\n",
    "\n",
    "homepage = 'https://wiki.yudurobotics.com/'\n",
    "# starting a crawl\n",
    "to_visit, known_urls = focused_crawler(homepage, max_seen_urls=10, max_known_urls=100000)\n",
    "# resuming a crawl"
   ]
  },
  {
   "cell_type": "code",
   "execution_count": 12,
   "metadata": {},
   "outputs": [
    {
     "name": "stderr",
     "output_type": "stream",
     "text": [
      "WARNING:courlan.urlstore:Discarding URL: /index.php?action=history&title=Main_Page\n",
      "WARNING:courlan.urlstore:Discarding URL: /index.php?title=File%3ARange_sensor.jpg\n",
      "WARNING:courlan.urlstore:Discarding URL: /index.php?title=File%3ABeam_joiner.jpg\n",
      "WARNING:courlan.urlstore:Discarding URL: /index.php?title=File%3ASmall_Container.png\n",
      "WARNING:courlan.urlstore:Discarding URL: /index.php?title=File%3AWhat%27s_inside_.jpg\n",
      "WARNING:courlan.urlstore:Discarding URL: /index.php?title=Roboki_-_Session_2\n"
     ]
    },
    {
     "name": "stdout",
     "output_type": "stream",
     "text": [
      "580 652\n"
     ]
    }
   ],
   "source": [
    "to_visit, known_urls = focused_crawler(homepage, max_seen_urls=10, max_known_urls=100000, todo=to_visit, known_links=known_urls)\n",
    "print(len(to_visit), len(known_urls))"
   ]
  },
  {
   "cell_type": "code",
   "execution_count": 17,
   "metadata": {},
   "outputs": [
    {
     "name": "stderr",
     "output_type": "stream",
     "text": [
      "ERROR:trafilatura.downloads:not a 200 response: 404 for URL https://wiki.yudurobotics.com/index.php?title=Special%3ARecentChanges\n"
     ]
    },
    {
     "name": "stdout",
     "output_type": "stream",
     "text": [
      "ERROR: Failed to download https://wiki.yudurobotics.com/index.php?title=Special%3ARecentChanges\n"
     ]
    },
    {
     "name": "stderr",
     "output_type": "stream",
     "text": [
      "ERROR:trafilatura.downloads:not a 200 response: 404 for URL https://wiki.yudurobotics.com/index.php?title=Yudurobotics%3APrivacy_policy\n"
     ]
    },
    {
     "name": "stdout",
     "output_type": "stream",
     "text": [
      "ERROR: Failed to download https://wiki.yudurobotics.com/index.php?title=Yudurobotics%3APrivacy_policy\n"
     ]
    },
    {
     "name": "stderr",
     "output_type": "stream",
     "text": [
      "ERROR:trafilatura.downloads:not a 200 response: 404 for URL https://wiki.yudurobotics.com/index.php?action=edit&redlink=1&title=Talk%3AYudu_Robotics\n"
     ]
    },
    {
     "name": "stdout",
     "output_type": "stream",
     "text": [
      "ERROR: Failed to download https://wiki.yudurobotics.com/index.php?action=edit&redlink=1&title=Talk%3AYudu_Robotics\n"
     ]
    },
    {
     "name": "stderr",
     "output_type": "stream",
     "text": [
      "ERROR:trafilatura.downloads:not a 200 response: 404 for URL https://wiki.yudurobotics.com/index.php?title=Yudurobotics%3AGeneral_disclaimer\n"
     ]
    },
    {
     "name": "stdout",
     "output_type": "stream",
     "text": [
      "ERROR: Failed to download https://wiki.yudurobotics.com/index.php?title=Yudurobotics%3AGeneral_disclaimer\n"
     ]
    },
    {
     "name": "stderr",
     "output_type": "stream",
     "text": [
      "ERROR:trafilatura.downloads:not a 200 response: 404 for URL https://wiki.yudurobotics.com/index.php?title=Yudurobotics%3AAbout\n"
     ]
    },
    {
     "name": "stdout",
     "output_type": "stream",
     "text": [
      "ERROR: Failed to download https://wiki.yudurobotics.com/index.php?title=Yudurobotics%3AAbout\n"
     ]
    },
    {
     "name": "stderr",
     "output_type": "stream",
     "text": [
      "ERROR:trafilatura.downloads:not a 200 response: 404 for URL https://wiki.yudurobotics.com/index.php?action=edit&redlink=1&title=Talk%3AMain_Page\n",
      "ERROR:trafilatura.downloads:not a 200 response: 404 for URL https://wiki.yudurobotics.com/index.php?title=Special%3AWhatLinksHere%2FMain_Page\n"
     ]
    },
    {
     "name": "stdout",
     "output_type": "stream",
     "text": [
      "ERROR: Failed to download https://wiki.yudurobotics.com/index.php?action=edit&redlink=1&title=Talk%3AMain_Page\n",
      "ERROR: Failed to download https://wiki.yudurobotics.com/index.php?title=Special%3AWhatLinksHere%2FMain_Page\n"
     ]
    },
    {
     "name": "stderr",
     "output_type": "stream",
     "text": [
      "ERROR:trafilatura.downloads:not a 200 response: 404 for URL https://wiki.yudurobotics.com/index.php?action=edit&redlink=1&title=Talk%3ARoboki-t1\n"
     ]
    },
    {
     "name": "stdout",
     "output_type": "stream",
     "text": [
      "ERROR: Failed to download https://wiki.yudurobotics.com/index.php?action=edit&redlink=1&title=Talk%3ARoboki-t1\n"
     ]
    },
    {
     "name": "stderr",
     "output_type": "stream",
     "text": [
      "ERROR:trafilatura.downloads:not a 200 response: 404 for URL https://wiki.yudurobotics.com/index.php?action=edit&redlink=1&title=Yudurobotics%3AVisualEditor\n"
     ]
    },
    {
     "name": "stdout",
     "output_type": "stream",
     "text": [
      "ERROR: Failed to download https://wiki.yudurobotics.com/index.php?action=edit&redlink=1&title=Yudurobotics%3AVisualEditor\n"
     ]
    },
    {
     "name": "stderr",
     "output_type": "stream",
     "text": [
      "ERROR:trafilatura.downloads:not a 200 response: 404 for URL https://wiki.yudurobotics.com/index.php?action=edit&redlink=1&title=Yudurobotics%3AUsers\n"
     ]
    },
    {
     "name": "stdout",
     "output_type": "stream",
     "text": [
      "ERROR: Failed to download https://wiki.yudurobotics.com/index.php?action=edit&redlink=1&title=Yudurobotics%3AUsers\n"
     ]
    },
    {
     "name": "stderr",
     "output_type": "stream",
     "text": [
      "ERROR:trafilatura.downloads:not a 200 response: 404 for URL https://wiki.yudurobotics.com/index.php?title=Special%3ARecentChangesLinked\n"
     ]
    },
    {
     "name": "stdout",
     "output_type": "stream",
     "text": [
      "ERROR: Failed to download https://wiki.yudurobotics.com/index.php?title=Special%3ARecentChangesLinked\n"
     ]
    },
    {
     "name": "stderr",
     "output_type": "stream",
     "text": [
      "ERROR:trafilatura.downloads:not a 200 response: 404 for URL https://wiki.yudurobotics.com/index.php?action=edit&redlink=1&title=Talk%3AKlaw\n"
     ]
    },
    {
     "name": "stdout",
     "output_type": "stream",
     "text": [
      "ERROR: Failed to download https://wiki.yudurobotics.com/index.php?action=edit&redlink=1&title=Talk%3AKlaw\n"
     ]
    },
    {
     "name": "stderr",
     "output_type": "stream",
     "text": [
      "ERROR:trafilatura.downloads:not a 200 response: 404 for URL https://wiki.yudurobotics.com/index.php?limit=50&title=Special%3ARecentChanges\n",
      "ERROR:trafilatura.downloads:download error: https://wiki.yudurobotics.com/index.php?hideanons=1&title=Special%3ARecentChanges No host specified.\n"
     ]
    },
    {
     "name": "stdout",
     "output_type": "stream",
     "text": [
      "ERROR: Failed to download https://wiki.yudurobotics.com/index.php?limit=50&title=Special%3ARecentChanges\n",
      "ERROR: Failed to download https://wiki.yudurobotics.com/index.php?hideanons=1&title=Special%3ARecentChanges\n"
     ]
    },
    {
     "name": "stderr",
     "output_type": "stream",
     "text": [
      "ERROR:trafilatura.downloads:download error: https://wiki.yudurobotics.com/index.php?hideliu=1&title=Special%3ARecentChanges No host specified.\n",
      "ERROR:trafilatura.downloads:not a 200 response: 404 for URL https://wiki.yudurobotics.com/index.php?hidebots=0&title=Special%3ARecentChanges\n"
     ]
    },
    {
     "name": "stdout",
     "output_type": "stream",
     "text": [
      "ERROR: Failed to download https://wiki.yudurobotics.com/index.php?hideliu=1&title=Special%3ARecentChanges\n",
      "ERROR: Failed to download https://wiki.yudurobotics.com/index.php?hidebots=0&title=Special%3ARecentChanges\n"
     ]
    },
    {
     "name": "stderr",
     "output_type": "stream",
     "text": [
      "ERROR:trafilatura.downloads:not a 200 response: 404 for URL https://wiki.yudurobotics.com/index.php?limit=250&title=Special%3ARecentChanges\n",
      "ERROR:trafilatura.downloads:not a 200 response: 404 for URL https://wiki.yudurobotics.com/index.php?days=3&title=Special%3ARecentChanges\n"
     ]
    },
    {
     "name": "stdout",
     "output_type": "stream",
     "text": [
      "ERROR: Failed to download https://wiki.yudurobotics.com/index.php?limit=250&title=Special%3ARecentChanges\n",
      "ERROR: Failed to download https://wiki.yudurobotics.com/index.php?days=3&title=Special%3ARecentChanges\n"
     ]
    },
    {
     "name": "stderr",
     "output_type": "stream",
     "text": [
      "ERROR:trafilatura.downloads:not a 200 response: 404 for URL https://wiki.yudurobotics.com/index.php?days=1&title=Special%3ARecentChanges\n",
      "ERROR:trafilatura.downloads:not a 200 response: 404 for URL https://wiki.yudurobotics.com/index.php?days=14&title=Special%3ARecentChanges\n"
     ]
    },
    {
     "name": "stdout",
     "output_type": "stream",
     "text": [
      "ERROR: Failed to download https://wiki.yudurobotics.com/index.php?days=1&title=Special%3ARecentChanges\n",
      "ERROR: Failed to download https://wiki.yudurobotics.com/index.php?days=14&title=Special%3ARecentChanges\n"
     ]
    },
    {
     "name": "stderr",
     "output_type": "stream",
     "text": [
      "ERROR:trafilatura.downloads:not a 200 response: 404 for URL https://wiki.yudurobotics.com/index.php?days=7&title=Special%3ARecentChanges\n",
      "ERROR:trafilatura.downloads:not a 200 response: 404 for URL https://wiki.yudurobotics.com/index.php?limit=500&title=Special%3ARecentChanges\n"
     ]
    },
    {
     "name": "stdout",
     "output_type": "stream",
     "text": [
      "ERROR: Failed to download https://wiki.yudurobotics.com/index.php?days=7&title=Special%3ARecentChanges\n",
      "ERROR: Failed to download https://wiki.yudurobotics.com/index.php?limit=500&title=Special%3ARecentChanges\n"
     ]
    },
    {
     "name": "stderr",
     "output_type": "stream",
     "text": [
      "ERROR:trafilatura.downloads:not a 200 response: 404 for URL https://wiki.yudurobotics.com/index.php?from=20250213121851&fromFormatted=17%3A48%2C+13+February+2025&title=Special%3ARecentChanges\n",
      "ERROR:trafilatura.downloads:not a 200 response: 404 for URL https://wiki.yudurobotics.com/index.php?hidemyself=1&title=Special%3ARecentChanges\n"
     ]
    },
    {
     "name": "stdout",
     "output_type": "stream",
     "text": [
      "ERROR: Failed to download https://wiki.yudurobotics.com/index.php?from=20250213121851&fromFormatted=17%3A48%2C+13+February+2025&title=Special%3ARecentChanges\n",
      "ERROR: Failed to download https://wiki.yudurobotics.com/index.php?hidemyself=1&title=Special%3ARecentChanges\n"
     ]
    },
    {
     "name": "stderr",
     "output_type": "stream",
     "text": [
      "WARNING:trafilatura.core:discarding data: None\n",
      "ERROR:trafilatura.downloads:not a 200 response: 404 for URL https://wiki.yudurobotics.com/index.php?limit=100&title=Special%3ARecentChanges\n"
     ]
    },
    {
     "name": "stdout",
     "output_type": "stream",
     "text": [
      "WARNING: Failed to extract data from https://wiki.yudurobotics.com/api.php?action=feedrecentchanges&days=7&feedformat=atom&hidebots=1&limit=50&urlversion=1\n",
      "ERROR: Failed to download https://wiki.yudurobotics.com/index.php?limit=100&title=Special%3ARecentChanges\n"
     ]
    },
    {
     "name": "stderr",
     "output_type": "stream",
     "text": [
      "ERROR:trafilatura.downloads:not a 200 response: 404 for URL https://wiki.yudurobotics.com/index.php?hideminor=1&title=Special%3ARecentChanges\n"
     ]
    },
    {
     "name": "stdout",
     "output_type": "stream",
     "text": [
      "ERROR: Failed to download https://wiki.yudurobotics.com/index.php?hideminor=1&title=Special%3ARecentChanges\n"
     ]
    },
    {
     "name": "stderr",
     "output_type": "stream",
     "text": [
      "ERROR:trafilatura.downloads:not a 200 response: 404 for URL https://wiki.yudurobotics.com/index.php?title=Special%3AWhatLinksHere%2FYudurobotics%3APrivacy_policy\n",
      "ERROR:trafilatura.downloads:not a 200 response: 404 for URL https://wiki.yudurobotics.com/index.php?action=edit&redlink=1&title=Yudurobotics%3APrivacy_policy\n"
     ]
    },
    {
     "name": "stdout",
     "output_type": "stream",
     "text": [
      "ERROR: Failed to download https://wiki.yudurobotics.com/index.php?title=Special%3AWhatLinksHere%2FYudurobotics%3APrivacy_policy\n",
      "ERROR: Failed to download https://wiki.yudurobotics.com/index.php?action=edit&redlink=1&title=Yudurobotics%3APrivacy_policy\n"
     ]
    },
    {
     "name": "stderr",
     "output_type": "stream",
     "text": [
      "ERROR:trafilatura.downloads:not a 200 response: 404 for URL https://wiki.yudurobotics.com/index.php?action=edit&redlink=1&title=Yudurobotics_talk%3APrivacy_policy\n"
     ]
    },
    {
     "name": "stdout",
     "output_type": "stream",
     "text": [
      "ERROR: Failed to download https://wiki.yudurobotics.com/index.php?action=edit&redlink=1&title=Yudurobotics_talk%3APrivacy_policy\n"
     ]
    },
    {
     "name": "stderr",
     "output_type": "stream",
     "text": [
      "ERROR:trafilatura.downloads:not a 200 response: 404 for URL https://wiki.yudurobotics.com/index.php?action=edit&redlink=1&title=File_talk%3AYudu_logo_png.png\n"
     ]
    },
    {
     "name": "stdout",
     "output_type": "stream",
     "text": [
      "ERROR: Failed to download https://wiki.yudurobotics.com/index.php?action=edit&redlink=1&title=File_talk%3AYudu_logo_png.png\n"
     ]
    },
    {
     "name": "stderr",
     "output_type": "stream",
     "text": [
      "ERROR:trafilatura.downloads:not a 200 response: 404 for URL https://wiki.yudurobotics.com/index.php?target=Main+Page&title=Special%3AWhatLinksHere\n"
     ]
    },
    {
     "name": "stdout",
     "output_type": "stream",
     "text": [
      "ERROR: Failed to download https://wiki.yudurobotics.com/index.php?target=Main+Page&title=Special%3AWhatLinksHere\n"
     ]
    },
    {
     "name": "stderr",
     "output_type": "stream",
     "text": [
      "ERROR:trafilatura.downloads:not a 200 response: 404 for URL https://wiki.yudurobotics.com/index.php?action=edit&redlink=1&title=Talk%3AZing\n"
     ]
    },
    {
     "name": "stdout",
     "output_type": "stream",
     "text": [
      "ERROR: Failed to download https://wiki.yudurobotics.com/index.php?action=edit&redlink=1&title=Talk%3AZing\n"
     ]
    },
    {
     "name": "stderr",
     "output_type": "stream",
     "text": [
      "ERROR:trafilatura.downloads:not a 200 response: 404 for URL https://wiki.yudurobotics.com/index.php?title=Talk%3AYudu_Robotics\n"
     ]
    },
    {
     "name": "stdout",
     "output_type": "stream",
     "text": [
      "ERROR: Failed to download https://wiki.yudurobotics.com/index.php?title=Talk%3AYudu_Robotics\n"
     ]
    },
    {
     "name": "stderr",
     "output_type": "stream",
     "text": [
      "ERROR:trafilatura.downloads:not a 200 response: 404 for URL https://wiki.yudurobotics.com/index.php?title=Special%3AWhatLinksHere%2FTalk%3AYudu_Robotics\n"
     ]
    },
    {
     "name": "stdout",
     "output_type": "stream",
     "text": [
      "ERROR: Failed to download https://wiki.yudurobotics.com/index.php?title=Special%3AWhatLinksHere%2FTalk%3AYudu_Robotics\n"
     ]
    },
    {
     "name": "stderr",
     "output_type": "stream",
     "text": [
      "ERROR:trafilatura.downloads:not a 200 response: 404 for URL https://wiki.yudurobotics.com/index.php?action=edit&redlink=1&title=Talk%3APLODE\n"
     ]
    },
    {
     "name": "stdout",
     "output_type": "stream",
     "text": [
      "ERROR: Failed to download https://wiki.yudurobotics.com/index.php?action=edit&redlink=1&title=Talk%3APLODE\n"
     ]
    },
    {
     "name": "stderr",
     "output_type": "stream",
     "text": [
      "ERROR:trafilatura.downloads:not a 200 response: 404 for URL https://wiki.yudurobotics.com/index.php?action=edit&redlink=1&title=File_talk%3APrimary_yellow_png.png\n"
     ]
    },
    {
     "name": "stdout",
     "output_type": "stream",
     "text": [
      "ERROR: Failed to download https://wiki.yudurobotics.com/index.php?action=edit&redlink=1&title=File_talk%3APrimary_yellow_png.png\n"
     ]
    },
    {
     "name": "stderr",
     "output_type": "stream",
     "text": [
      "ERROR:trafilatura.downloads:not a 200 response: 404 for URL https://wiki.yudurobotics.com/index.php?action=edit&redlink=1&title=Talk%3ACrawl-E\n"
     ]
    },
    {
     "name": "stdout",
     "output_type": "stream",
     "text": [
      "ERROR: Failed to download https://wiki.yudurobotics.com/index.php?action=edit&redlink=1&title=Talk%3ACrawl-E\n"
     ]
    },
    {
     "name": "stderr",
     "output_type": "stream",
     "text": [
      "ERROR:trafilatura.downloads:not a 200 response: 404 for URL https://wiki.yudurobotics.com/index.php?action=edit&redlink=1&title=Plode_app\n"
     ]
    },
    {
     "name": "stdout",
     "output_type": "stream",
     "text": [
      "ERROR: Failed to download https://wiki.yudurobotics.com/index.php?action=edit&redlink=1&title=Plode_app\n"
     ]
    },
    {
     "name": "stderr",
     "output_type": "stream",
     "text": [
      "ERROR:trafilatura.downloads:not a 200 response: 404 for URL https://wiki.yudurobotics.com/index.php?action=edit&redlink=1&title=Talk%3AAI_Cam\n"
     ]
    },
    {
     "name": "stdout",
     "output_type": "stream",
     "text": [
      "ERROR: Failed to download https://wiki.yudurobotics.com/index.php?action=edit&redlink=1&title=Talk%3AAI_Cam\n"
     ]
    },
    {
     "name": "stderr",
     "output_type": "stream",
     "text": [
      "ERROR:trafilatura.downloads:not a 200 response: 404 for URL https://wiki.yudurobotics.com/index.php?action=edit&redlink=1&title=Yudurobotics%3AGeneral_disclaimer\n",
      "ERROR:trafilatura.downloads:not a 200 response: 404 for URL https://wiki.yudurobotics.com/index.php?title=Special%3AWhatLinksHere%2FYudurobotics%3AGeneral_disclaimer\n"
     ]
    },
    {
     "name": "stdout",
     "output_type": "stream",
     "text": [
      "ERROR: Failed to download https://wiki.yudurobotics.com/index.php?action=edit&redlink=1&title=Yudurobotics%3AGeneral_disclaimer\n",
      "ERROR: Failed to download https://wiki.yudurobotics.com/index.php?title=Special%3AWhatLinksHere%2FYudurobotics%3AGeneral_disclaimer\n"
     ]
    },
    {
     "name": "stderr",
     "output_type": "stream",
     "text": [
      "ERROR:trafilatura.downloads:not a 200 response: 404 for URL https://wiki.yudurobotics.com/index.php?action=edit&redlink=1&title=Yudurobotics_talk%3AGeneral_disclaimer\n"
     ]
    },
    {
     "name": "stdout",
     "output_type": "stream",
     "text": [
      "ERROR: Failed to download https://wiki.yudurobotics.com/index.php?action=edit&redlink=1&title=Yudurobotics_talk%3AGeneral_disclaimer\n"
     ]
    },
    {
     "name": "stderr",
     "output_type": "stream",
     "text": [
      "ERROR:trafilatura.downloads:not a 200 response: 404 for URL https://wiki.yudurobotics.com/index.php?action=edit&redlink=1&title=Yudurobotics_talk%3AAbout\n"
     ]
    },
    {
     "name": "stdout",
     "output_type": "stream",
     "text": [
      "ERROR: Failed to download https://wiki.yudurobotics.com/index.php?action=edit&redlink=1&title=Yudurobotics_talk%3AAbout\n"
     ]
    },
    {
     "name": "stderr",
     "output_type": "stream",
     "text": [
      "ERROR:trafilatura.downloads:not a 200 response: 404 for URL https://wiki.yudurobotics.com/index.php?title=Special%3AWhatLinksHere%2FYudurobotics%3AAbout\n"
     ]
    },
    {
     "name": "stdout",
     "output_type": "stream",
     "text": [
      "ERROR: Failed to download https://wiki.yudurobotics.com/index.php?title=Special%3AWhatLinksHere%2FYudurobotics%3AAbout\n"
     ]
    },
    {
     "name": "stderr",
     "output_type": "stream",
     "text": [
      "ERROR:trafilatura.downloads:not a 200 response: 404 for URL https://wiki.yudurobotics.com/index.php?action=edit&redlink=1&title=Yudurobotics%3AAbout\n"
     ]
    },
    {
     "name": "stdout",
     "output_type": "stream",
     "text": [
      "ERROR: Failed to download https://wiki.yudurobotics.com/index.php?action=edit&redlink=1&title=Yudurobotics%3AAbout\n"
     ]
    },
    {
     "name": "stderr",
     "output_type": "stream",
     "text": [
      "ERROR:trafilatura.downloads:not a 200 response: 404 for URL https://wiki.yudurobotics.com/index.php?action=edit&redlink=1&title=Talk%3ARoboki\n"
     ]
    },
    {
     "name": "stdout",
     "output_type": "stream",
     "text": [
      "ERROR: Failed to download https://wiki.yudurobotics.com/index.php?action=edit&redlink=1&title=Talk%3ARoboki\n"
     ]
    },
    {
     "name": "stderr",
     "output_type": "stream",
     "text": [
      "ERROR:trafilatura.downloads:not a 200 response: 404 for URL https://wiki.yudurobotics.com/index.php?title=Talk%3AMain_Page\n"
     ]
    },
    {
     "name": "stdout",
     "output_type": "stream",
     "text": [
      "ERROR: Failed to download https://wiki.yudurobotics.com/index.php?title=Talk%3AMain_Page\n"
     ]
    },
    {
     "name": "stderr",
     "output_type": "stream",
     "text": [
      "ERROR:trafilatura.downloads:not a 200 response: 404 for URL https://wiki.yudurobotics.com/index.php?title=Special%3AWhatLinksHere%2FTalk%3AMain_Page\n"
     ]
    },
    {
     "name": "stdout",
     "output_type": "stream",
     "text": [
      "ERROR: Failed to download https://wiki.yudurobotics.com/index.php?title=Special%3AWhatLinksHere%2FTalk%3AMain_Page\n"
     ]
    },
    {
     "name": "stderr",
     "output_type": "stream",
     "text": [
      "ERROR:trafilatura.downloads:not a 200 response: 404 for URL https://wiki.yudurobotics.com/index.php?hidelinks=1&hidetrans=1&title=Special%3AWhatLinksHere%2FMain_Page\n"
     ]
    },
    {
     "name": "stdout",
     "output_type": "stream",
     "text": [
      "ERROR: Failed to download https://wiki.yudurobotics.com/index.php?hidelinks=1&hidetrans=1&title=Special%3AWhatLinksHere%2FMain_Page\n"
     ]
    },
    {
     "name": "stderr",
     "output_type": "stream",
     "text": [
      "ERROR:trafilatura.downloads:not a 200 response: 404 for URL https://wiki.yudurobotics.com/index.php?action=edit&redlink=1&title=File_talk%3ARange_sensor.jpg\n"
     ]
    },
    {
     "name": "stdout",
     "output_type": "stream",
     "text": [
      "ERROR: Failed to download https://wiki.yudurobotics.com/index.php?action=edit&redlink=1&title=File_talk%3ARange_sensor.jpg\n"
     ]
    },
    {
     "name": "stderr",
     "output_type": "stream",
     "text": [
      "ERROR:trafilatura.downloads:not a 200 response: 404 for URL https://wiki.yudurobotics.com/index.php?action=edit&redlink=1&title=File_talk%3ABeam_joiner.jpg\n"
     ]
    },
    {
     "name": "stdout",
     "output_type": "stream",
     "text": [
      "ERROR: Failed to download https://wiki.yudurobotics.com/index.php?action=edit&redlink=1&title=File_talk%3ABeam_joiner.jpg\n"
     ]
    },
    {
     "name": "stderr",
     "output_type": "stream",
     "text": [
      "ERROR:trafilatura.downloads:not a 200 response: 404 for URL https://wiki.yudurobotics.com/index.php?action=edit&redlink=1&title=File_talk%3ASmall_Container.png\n"
     ]
    },
    {
     "name": "stdout",
     "output_type": "stream",
     "text": [
      "ERROR: Failed to download https://wiki.yudurobotics.com/index.php?action=edit&redlink=1&title=File_talk%3ASmall_Container.png\n"
     ]
    },
    {
     "name": "stderr",
     "output_type": "stream",
     "text": [
      "ERROR:trafilatura.downloads:not a 200 response: 404 for URL https://wiki.yudurobotics.com/index.php?action=edit&redlink=1&title=File_talk%3AWhat%27s_inside_.jpg\n"
     ]
    },
    {
     "name": "stdout",
     "output_type": "stream",
     "text": [
      "ERROR: Failed to download https://wiki.yudurobotics.com/index.php?action=edit&redlink=1&title=File_talk%3AWhat%27s_inside_.jpg\n"
     ]
    },
    {
     "name": "stderr",
     "output_type": "stream",
     "text": [
      "ERROR:trafilatura.downloads:not a 200 response: 404 for URL https://wiki.yudurobotics.com/index.php?action=edit&redlink=1&title=Talk%3ARoboki_-_Session_2\n"
     ]
    },
    {
     "name": "stdout",
     "output_type": "stream",
     "text": [
      "ERROR: Failed to download https://wiki.yudurobotics.com/index.php?action=edit&redlink=1&title=Talk%3ARoboki_-_Session_2\n"
     ]
    }
   ],
   "source": [
    "# import the necessary functions\n",
    "from trafilatura import fetch_url, extract\n",
    "import json\n",
    "\n",
    "# grab a HTML file to extract data from\n",
    "for url in known_urls:\n",
    "    downloaded = fetch_url(url)\n",
    "    if downloaded is None:\n",
    "        print(f\"ERROR: Failed to download {url}\")\n",
    "        continue\n",
    "    data = extract(downloaded, output_format=\"json\")\n",
    "    if data is None:\n",
    "        print(f\"WARNING: Failed to extract data from {url}\")\n",
    "        continue\n",
    "    data = json.loads(data)\n",
    "    file_path = \"data.jsonl\"\n",
    "    # Open the file in write mode ('w')\n",
    "    with open(file_path, 'a') as file:\n",
    "        # Write the data to the file\n",
    "        file.write(data[\"text\"])"
   ]
  },
  {
   "cell_type": "code",
   "execution_count": null,
   "metadata": {},
   "outputs": [],
   "source": []
  },
  {
   "cell_type": "code",
   "execution_count": null,
   "metadata": {},
   "outputs": [],
   "source": []
  },
  {
   "cell_type": "code",
   "execution_count": null,
   "metadata": {},
   "outputs": [],
   "source": []
  },
  {
   "cell_type": "code",
   "execution_count": null,
   "metadata": {},
   "outputs": [],
   "source": []
  },
  {
   "cell_type": "code",
   "execution_count": null,
   "metadata": {},
   "outputs": [],
   "source": []
  },
  {
   "cell_type": "code",
   "execution_count": null,
   "metadata": {},
   "outputs": [],
   "source": []
  },
  {
   "cell_type": "code",
   "execution_count": null,
   "metadata": {},
   "outputs": [],
   "source": []
  }
 ],
 "metadata": {
  "kernelspec": {
   "display_name": "base",
   "language": "python",
   "name": "python3"
  },
  "language_info": {
   "codemirror_mode": {
    "name": "ipython",
    "version": 3
   },
   "file_extension": ".py",
   "mimetype": "text/x-python",
   "name": "python",
   "nbconvert_exporter": "python",
   "pygments_lexer": "ipython3",
   "version": "3.12.2"
  }
 },
 "nbformat": 4,
 "nbformat_minor": 2
}
